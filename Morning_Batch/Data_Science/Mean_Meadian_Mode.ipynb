{
 "cells": [
  {
   "cell_type": "markdown",
   "metadata": {},
   "source": [
    "# Mean, Median, Mode, and introducing NumPy"
   ]
  },
  {
   "cell_type": "markdown",
   "metadata": {},
   "source": [
    "## Mean vs. Median"
   ]
  },
  {
   "cell_type": "markdown",
   "metadata": {},
   "source": [
    "Let's create some fake income data, centered around 27,000 with a normal distribution and standard deviation of 15,000, with 10,000 data points. (We'll discuss those terms more later, if you're not familiar with them.)\n",
    "\n",
    "Then, compute the mean (average) - it should be close to 27,000:"
   ]
  },
  {
   "cell_type": "code",
   "execution_count": 1,
   "metadata": {
    "collapsed": true
   },
   "outputs": [],
   "source": [
    "%matplotlib inline\n",
    "import numpy as np\n",
    "import pandas as pd"
   ]
  },
  {
   "cell_type": "code",
   "execution_count": 7,
   "metadata": {},
   "outputs": [
    {
     "data": {
      "text/plain": [
       "27015.74695442369"
      ]
     },
     "execution_count": 7,
     "metadata": {},
     "output_type": "execute_result"
    }
   ],
   "source": [
    "incomes = np.random.normal(27000,15000,10000)\n",
    "np.mean(incomes)"
   ]
  },
  {
   "cell_type": "markdown",
   "metadata": {},
   "source": [
    "We can segment the income data into 50 buckets, and plot it as a histogram:"
   ]
  },
  {
   "cell_type": "code",
   "execution_count": 9,
   "metadata": {
    "collapsed": true
   },
   "outputs": [],
   "source": [
    "import matplotlib.pyplot as plt"
   ]
  },
  {
   "cell_type": "code",
   "execution_count": 10,
   "metadata": {},
   "outputs": [
    {
     "data": {
      "image/png": "[encoded data removed]",
      "text/plain": [
       "<Figure size 432x288 with 1 Axes>"
      ]
     },
     "metadata": {},
     "output_type": "display_data"
    }
   ],
   "source": [
    "plt.hist(incomes,50)\n",
    "plt.show()"
   ]
  },
  {
   "cell_type": "markdown",
   "metadata": {},
   "source": [
    "Now compute the median - since we have a nice, even distribution it too should be close to 27,000:"
   ]
  },
  {
   "cell_type": "code",
   "execution_count": 11,
   "metadata": {},
   "outputs": [
    {
     "data": {
      "text/plain": [
       "27067.306977485707"
      ]
     },
     "execution_count": 11,
     "metadata": {},
     "output_type": "execute_result"
    }
   ],
   "source": [
    "np.median(incomes)"
   ]
  },
  {
   "cell_type": "markdown",
   "metadata": {},
   "source": [
    "Now we'll add Donald Trump into the mix. Darn income inequality!"
   ]
  },
  {
   "cell_type": "markdown",
   "metadata": {},
   "source": [
    "The median won't change much, but the mean does:"
   ]
  },
  {
   "cell_type": "code",
   "execution_count": 12,
   "metadata": {
    "collapsed": true
   },
   "outputs": [],
   "source": [
    "incomes = np.append(incomes,[1000000000])"
   ]
  },
  {
   "cell_type": "code",
   "execution_count": 13,
   "metadata": {},
   "outputs": [
    {
     "data": {
      "text/plain": [
       "127003.04664975872"
      ]
     },
     "execution_count": 13,
     "metadata": {},
     "output_type": "execute_result"
    }
   ],
   "source": [
    "np.mean(incomes)"
   ]
  },
  {
   "cell_type": "code",
   "execution_count": 15,
   "metadata": {},
   "outputs": [
    {
     "data": {
      "text/plain": [
       "27069.941034249405"
      ]
     },
     "execution_count": 15,
     "metadata": {},
     "output_type": "execute_result"
    }
   ],
   "source": [
    "np.median(incomes)"
   ]
  },
  {
   "cell_type": "markdown",
   "metadata": {},
   "source": [
    "# MODE"
   ]
  },
  {
   "cell_type": "markdown",
   "metadata": {},
   "source": [
    "Next, let's generate some fake age data for 500 people:"
   ]
  },
  {
   "cell_type": "code",
   "execution_count": 26,
   "metadata": {},
   "outputs": [
    {
     "data": {
      "text/plain": [
       "array([57, 42, 72, 71, 34, 71, 34, 18, 86, 78, 46, 34, 74, 43, 36, 22, 77,\n",
       "       42, 87, 37, 69, 31, 51, 82, 47, 67, 41, 55, 55, 87, 47, 89, 19, 30,\n",
       "       52, 54, 78, 68, 63, 65, 80, 62, 78, 87, 74, 47, 77, 73, 82, 32, 63,\n",
       "       48, 83, 46, 57, 29, 26, 85, 85, 44, 51, 79, 81, 28, 43, 50, 46, 65,\n",
       "       22, 87, 86, 45, 67, 73, 89, 80, 51, 80, 86, 84, 24, 50, 18, 31, 23,\n",
       "       34, 70, 23, 76, 30, 64, 66, 65, 73, 65, 20, 65, 38, 57, 67, 20, 78,\n",
       "       57, 21, 72, 81, 29, 25, 24, 45, 27, 87, 63, 85, 26, 37, 53, 25, 24,\n",
       "       64, 42, 24, 44, 88, 21, 25, 73, 82, 85, 70, 50, 52, 43, 85, 74, 30,\n",
       "       48, 75, 70, 83, 54, 84, 85, 58, 44, 24, 43, 75, 58, 64, 37, 47, 84,\n",
       "       82, 39, 46, 20, 61, 39, 25, 81, 26, 60, 27, 28, 59, 44, 27, 34, 41,\n",
       "       76, 40, 67, 55, 31, 48, 59, 31, 78, 84, 38, 26, 27, 43, 82, 56, 65,\n",
       "       53, 75, 85, 53, 62, 79, 41, 86, 44, 27, 77, 57, 84, 64, 88, 61, 19,\n",
       "       37, 68, 68, 36, 20, 34, 45, 38, 28, 68, 52, 77, 84, 57, 67, 34, 61,\n",
       "       58, 24, 45, 28, 30, 66, 83, 24, 62, 33, 87, 49, 73, 49, 54, 27, 39,\n",
       "       22, 70, 21, 75, 68, 24, 82, 71, 85, 66, 72, 57, 19, 29, 86, 54, 42,\n",
       "       51, 58, 89, 89, 24, 59, 36, 49, 82, 77, 38, 52, 33, 64, 48, 24, 76,\n",
       "       83, 21, 58, 62, 32, 53, 88, 64, 35, 89, 87, 73, 19, 82, 29, 39, 18,\n",
       "       59, 76, 46, 36, 88, 42, 31, 42, 37, 81, 50, 82, 57, 45, 87, 48, 89,\n",
       "       77, 62, 53, 35, 20, 88, 43, 89, 74, 57, 69, 30, 24, 56, 68, 71, 36,\n",
       "       60, 71, 71, 27, 44, 55, 38, 55, 63, 31, 26, 81, 43, 87, 63, 52, 18,\n",
       "       43, 25, 75, 51, 18, 23, 49, 37, 83, 59, 18, 25, 48, 67, 71, 47, 88,\n",
       "       56, 69, 37, 36, 39, 80, 39, 29, 81, 66, 56, 19, 81, 82, 33, 89, 53,\n",
       "       46, 34, 22, 65, 24, 76, 64, 49, 61, 52, 54, 47, 87, 87, 38, 37, 77,\n",
       "       18, 44, 81, 44, 59, 63, 27, 63, 28, 87, 20, 44, 81, 56, 46, 88, 50,\n",
       "       70, 63, 79, 47, 52, 40, 84, 27, 68, 36, 25, 52, 86, 82, 74, 20, 27,\n",
       "       45, 73, 59, 41, 78, 49, 30, 22, 24, 35, 87, 43, 81, 73, 74, 53, 28,\n",
       "       73, 86, 78, 88, 40, 57, 36, 85, 82, 48, 38, 36, 56, 74, 77, 87, 49,\n",
       "       74, 66, 23, 25, 88, 45, 34, 69, 54, 87, 89, 42, 25, 62, 72, 84, 69,\n",
       "       86, 58, 82, 41, 20, 24, 79, 81, 49, 55, 38, 70, 49, 23, 55, 58, 74,\n",
       "       57, 70, 77, 50, 30, 79, 86])"
      ]
     },
     "execution_count": 26,
     "metadata": {},
     "output_type": "execute_result"
    }
   ],
   "source": [
    "ages = np.random.randint(18,high=90,size=500)\n",
    "ages"
   ]
  },
  {
   "cell_type": "code",
   "execution_count": 27,
   "metadata": {
    "collapsed": true
   },
   "outputs": [],
   "source": [
    "from scipy import stats"
   ]
  },
  {
   "cell_type": "code",
   "execution_count": 28,
   "metadata": {},
   "outputs": [
    {
     "data": {
      "text/plain": [
       "ModeResult(mode=array([87]), count=array([15]))"
      ]
     },
     "execution_count": 28,
     "metadata": {},
     "output_type": "execute_result"
    }
   ],
   "source": [
    "stats.mode(ages)"
   ]
  },
  {
   "cell_type": "code",
   "execution_count": 31,
   "metadata": {},
   "outputs": [
    {
     "data": {
      "text/plain": [
       "15"
      ]
     },
     "execution_count": 31,
     "metadata": {},
     "output_type": "execute_result"
    }
   ],
   "source": [
    "list(ages).count(87)"
   ]
  },
  {
   "cell_type": "code",
   "execution_count": 43,
   "metadata": {},
   "outputs": [
    {
     "data": {
      "image/png": "[encoded data removed]",
      "text/plain": [
       "<Figure size 432x288 with 1 Axes>"
      ]
     },
     "metadata": {},
     "output_type": "display_data"
    }
   ],
   "source": [
    "incomes = np.random.normal(50,15,10000)\n",
    "income = np.random.normal(15000,2000,10000)\n",
    "plt.scatter(incomes,income)\n",
    "plt.show()"
   ]
  },
  {
   "cell_type": "code",
   "execution_count": null,
   "metadata": {
    "collapsed": true
   },
   "outputs": [],
   "source": []
  }
 ],
 "metadata": {
  "kernelspec": {
   "display_name": "Python 3",
   "language": "python",
   "name": "python3"
  },
  "language_info": {
   "codemirror_mode": {
    "name": "ipython",
    "version": 3
   },
   "file_extension": ".py",
   "mimetype": "text/x-python",
   "name": "python",
   "nbconvert_exporter": "python",
   "pygments_lexer": "ipython3",
   "version": "3.6.3"
  }
 },
 "nbformat": 4,
 "nbformat_minor": 2
}
