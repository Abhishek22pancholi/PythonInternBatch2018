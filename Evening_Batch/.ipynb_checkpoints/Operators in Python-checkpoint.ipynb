{
 "cells": [
  {
   "cell_type": "markdown",
   "metadata": {},
   "source": [
    "<h1 style='color:red'>Operators In Python</h1>"
   ]
  },
  {
   "cell_type": "markdown",
   "metadata": {},
   "source": [
    "1. Arithmatic Operators ( +, -, \\* , /, %, //, \\** )\n",
    "2. Comparision Operators ( <, >, <=, >=, ==, != )\n",
    "3. Logical Operators ( and, or, not )\n",
    "4. Assignment Operator ( = )\n",
    "5. Membership Operator ( in, not in )\n",
    "6. Identity Operator ( is, is not )\n",
    "7. Binary Operator"
   ]
  },
  {
   "cell_type": "markdown",
   "metadata": {},
   "source": [
    "1. Airthmatic Operator\n",
    "\n",
    "<p>\n",
    "a) addition + <br/>\n",
    "b) substraction - <br />\n",
    "c) multiplication \\* <br />\n",
    "d) absolute division / <br />\n",
    "e) modulas operator % <br />\n",
    "f) inter division or floor division // <br />\n",
    "g) power or exponent \\** <br />\n",
    "<p>"
   ]
  },
  {
   "cell_type": "code",
   "execution_count": 1,
   "metadata": {},
   "outputs": [
    {
     "name": "stdout",
     "output_type": "stream",
     "text": [
      "15\n"
     ]
    }
   ],
   "source": [
    "#Addition ( Binary Operator )\n",
    "x = 5\n",
    "y = 10\n",
    "print(x+y)"
   ]
  },
  {
   "cell_type": "code",
   "execution_count": 2,
   "metadata": {},
   "outputs": [
    {
     "name": "stdout",
     "output_type": "stream",
     "text": [
      "hello world\n"
     ]
    }
   ],
   "source": [
    "s1 = \"hello \"\n",
    "s2 = \"world\"\n",
    "print(s1+s2)"
   ]
  },
  {
   "cell_type": "code",
   "execution_count": 3,
   "metadata": {},
   "outputs": [
    {
     "name": "stdout",
     "output_type": "stream",
     "text": [
      "[1, 2, 3, 'hello', 'hi']\n",
      "[3.14, 'something', 'bye bye']\n",
      "[1, 2, 3, 'hello', 'hi', 3.14, 'something', 'bye bye']\n"
     ]
    }
   ],
   "source": [
    "l1 = [ 1,2,3,'hello','hi']\n",
    "l2 = [ 3.14,'something','bye bye']\n",
    "l3 = l1 + l2\n",
    "print(l1)\n",
    "print(l2)\n",
    "print(l3)\n"
   ]
  },
  {
   "cell_type": "code",
   "execution_count": 4,
   "metadata": {},
   "outputs": [
    {
     "name": "stdout",
     "output_type": "stream",
     "text": [
      "(1, 2, 3)\n",
      "(4, 5, 6)\n",
      "(1, 2, 3, 4, 5, 6)\n"
     ]
    }
   ],
   "source": [
    "t1 = ( 1,2,3)\n",
    "t2 = (4,5,6)\n",
    "t3 = t1 + t2\n",
    "print(t1)\n",
    "print(t2)\n",
    "print(t3)"
   ]
  },
  {
   "cell_type": "code",
   "execution_count": 6,
   "metadata": {},
   "outputs": [
    {
     "name": "stdout",
     "output_type": "stream",
     "text": [
      "{'one': 'ek', 'hi': 'hello'}\n",
      "{'two': 'do', 'bye': 'bye bye'}\n"
     ]
    }
   ],
   "source": [
    "d1 = { 'one': 'ek','hi':'hello' }\n",
    "d2 = { 'two': 'do','bye':'bye bye'}\n",
    "#d3 = d1 + d2 this operatin is not permitted in python \n",
    "print(d1)\n",
    "print(d2)\n",
    "#print(d3)\n"
   ]
  },
  {
   "cell_type": "code",
   "execution_count": 8,
   "metadata": {},
   "outputs": [
    {
     "name": "stdout",
     "output_type": "stream",
     "text": [
      "{1, 2, 3}\n",
      "{4, 5, 6}\n"
     ]
    }
   ],
   "source": [
    "s1 = { 1,2,3}\n",
    "s2 = { 4,5,6}\n",
    "print(s1)\n",
    "print(s2)\n",
    "#s3 = s1 + s2 not permitted\n",
    "#print(s3)"
   ]
  },
  {
   "cell_type": "markdown",
   "metadata": {},
   "source": [
    "#Substraction operator\n"
   ]
  },
  {
   "cell_type": "code",
   "execution_count": 9,
   "metadata": {},
   "outputs": [
    {
     "name": "stdout",
     "output_type": "stream",
     "text": [
      "3\n",
      "7\n",
      "-4\n"
     ]
    }
   ],
   "source": [
    "x = 3\n",
    "y = 7 \n",
    "print(x)\n",
    "print(y)\n",
    "z = x - y \n",
    "print(z)"
   ]
  },
  {
   "cell_type": "code",
   "execution_count": 10,
   "metadata": {},
   "outputs": [
    {
     "name": "stdout",
     "output_type": "stream",
     "text": [
      "(10.65+6.2j)\n"
     ]
    }
   ],
   "source": [
    "x = 3\n",
    "y = 3.15\n",
    "z = 4.5+6.2j\n",
    "print(x+y+z)"
   ]
  },
  {
   "cell_type": "code",
   "execution_count": 12,
   "metadata": {},
   "outputs": [
    {
     "name": "stdout",
     "output_type": "stream",
     "text": [
      "(7.536+10.799999999999999j)\n"
     ]
    }
   ],
   "source": [
    "#multiplication \n",
    "\n",
    "x = 1\n",
    "y = 2.4\n",
    "z = 3.14+4.5j\n",
    "r = x*y*z\n",
    "print(r)"
   ]
  },
  {
   "cell_type": "code",
   "execution_count": 14,
   "metadata": {},
   "outputs": [
    {
     "name": "stdout",
     "output_type": "stream",
     "text": [
      "3.142857142857143\n",
      "3\n"
     ]
    }
   ],
   "source": [
    "x = 22\n",
    "y = 7\n",
    "#absolute division /\n",
    "z = x/y\n",
    "print(z)\n",
    "print(round(z))"
   ]
  },
  {
   "cell_type": "code",
   "execution_count": 15,
   "metadata": {},
   "outputs": [
    {
     "name": "stdout",
     "output_type": "stream",
     "text": [
      "4\n"
     ]
    }
   ],
   "source": [
    "x = 3.7\n",
    "print(round(x))"
   ]
  },
  {
   "cell_type": "code",
   "execution_count": 26,
   "metadata": {},
   "outputs": [
    {
     "name": "stdout",
     "output_type": "stream",
     "text": [
      "1.8571428571428572\n",
      "1.857143\n",
      "     1.857\n"
     ]
    }
   ],
   "source": [
    "x = 13\n",
    "y = 7 \n",
    "r = x/y\n",
    "print(r)\n",
    "print(\"%f\"%(r))\n",
    "print(\"%10.3f\"%(r))"
   ]
  },
  {
   "cell_type": "code",
   "execution_count": 27,
   "metadata": {},
   "outputs": [
    {
     "name": "stdout",
     "output_type": "stream",
     "text": [
      "x = 22\n",
      "y = 7\n",
      "r =  3.14\n"
     ]
    }
   ],
   "source": [
    "x = 22\n",
    "y = 7 \n",
    "print(\"x = {}\".format(x))\n",
    "print(\"y = {}\".format(y))\n",
    "print(\"r = {:5.3}\".format(x/y))"
   ]
  },
  {
   "cell_type": "code",
   "execution_count": 31,
   "metadata": {},
   "outputs": [
    {
     "name": "stdout",
     "output_type": "stream",
     "text": [
      "x = 13, y = 2.5384615384615383, x/y = 33\n"
     ]
    }
   ],
   "source": [
    "x = 33\n",
    "y = 13\n",
    "#x = 33,y = 13, x/y = 2.22\n",
    "print(\"x = {1}, y = {2}, x/y = {0}\".format(x,y,x/y))"
   ]
  },
  {
   "cell_type": "code",
   "execution_count": 32,
   "metadata": {},
   "outputs": [
    {
     "name": "stdout",
     "output_type": "stream",
     "text": [
      "5 + 5 = 10\n"
     ]
    }
   ],
   "source": [
    "# 5 + 5 = 10\n",
    "x = 5\n",
    "y = x + x \n",
    "print(\"{1} + {1} = {0}\".format(y,x))"
   ]
  },
  {
   "cell_type": "code",
   "execution_count": 33,
   "metadata": {},
   "outputs": [
    {
     "data": {
      "text/plain": [
       "0.75"
      ]
     },
     "execution_count": 33,
     "metadata": {},
     "output_type": "execute_result"
    }
   ],
   "source": [
    "3/4"
   ]
  },
  {
   "cell_type": "code",
   "execution_count": 36,
   "metadata": {},
   "outputs": [
    {
     "name": "stdout",
     "output_type": "stream",
     "text": [
      "5\n"
     ]
    }
   ],
   "source": [
    "#modulas operator ( remainder )\n",
    "x = 26 % 7 \n",
    "print(x)"
   ]
  },
  {
   "cell_type": "code",
   "execution_count": 37,
   "metadata": {},
   "outputs": [
    {
     "name": "stdout",
     "output_type": "stream",
     "text": [
      "3\n"
     ]
    }
   ],
   "source": [
    "#floor division (quotient on remainder) //\n",
    "# floor division is used to provide integer division\n",
    "x = 10 // 3\n",
    "print(x)"
   ]
  },
  {
   "cell_type": "code",
   "execution_count": 38,
   "metadata": {},
   "outputs": [
    {
     "name": "stdout",
     "output_type": "stream",
     "text": [
      "16\n"
     ]
    }
   ],
   "source": [
    "#exponent **\n",
    "# x ** y -> x to the power y\n",
    "x = 2 ** 4 \n",
    "print(x)"
   ]
  },
  {
   "cell_type": "code",
   "execution_count": 39,
   "metadata": {},
   "outputs": [
    {
     "name": "stdout",
     "output_type": "stream",
     "text": [
      "26\n"
     ]
    }
   ],
   "source": [
    "x = 5*6-23%3*2 #30-23%6 #30-5 # 25\n",
    "print(x)\n"
   ]
  },
  {
   "cell_type": "code",
   "execution_count": 40,
   "metadata": {},
   "outputs": [
    {
     "name": "stdout",
     "output_type": "stream",
     "text": [
      "10\n"
     ]
    }
   ],
   "source": [
    "x = 7 ---- 3\n",
    "print(x)"
   ]
  },
  {
   "cell_type": "code",
   "execution_count": 41,
   "metadata": {},
   "outputs": [
    {
     "name": "stdout",
     "output_type": "stream",
     "text": [
      "HelloHelloHelloHelloHello\n"
     ]
    }
   ],
   "source": [
    "s = \"Hello\"\n",
    "print(s*5)"
   ]
  },
  {
   "cell_type": "code",
   "execution_count": 42,
   "metadata": {},
   "outputs": [
    {
     "name": "stdout",
     "output_type": "stream",
     "text": [
      "[1, 2, 3, 1, 2, 3, 1, 2, 3, 1, 2, 3, 1, 2, 3]\n"
     ]
    }
   ],
   "source": [
    "l = [1,2,3]\n",
    "print(l*5)"
   ]
  },
  {
   "cell_type": "code",
   "execution_count": 44,
   "metadata": {},
   "outputs": [
    {
     "name": "stdout",
     "output_type": "stream",
     "text": [
      "************************************************************\n",
      "************************************************************\n",
      "\n",
      "                        Hello World                         \n",
      "\n",
      "************************************************************\n",
      "************************************************************\n"
     ]
    }
   ],
   "source": [
    "print(\"*\"*60)\n",
    "print(\"*\"*60)\n",
    "print()\n",
    "print(\"Hello World\".center(60))\n",
    "print()\n",
    "print(\"*\"*60)\n",
    "print(\"*\"*60)"
   ]
  },
  {
   "cell_type": "code",
   "execution_count": 45,
   "metadata": {},
   "outputs": [
    {
     "name": "stdout",
     "output_type": "stream",
     "text": [
      "[]\n",
      "\n"
     ]
    }
   ],
   "source": [
    "l = []\n",
    "s = [] * 5\n",
    "print(s)\n",
    "x = ''\n",
    "x = ''*5\n",
    "print(x)"
   ]
  },
  {
   "cell_type": "code",
   "execution_count": 47,
   "metadata": {},
   "outputs": [
    {
     "name": "stdout",
     "output_type": "stream",
     "text": [
      "[[1, 1, 1, 1, 1]]\n"
     ]
    }
   ],
   "source": [
    "l = [ [1]*5 ]\n",
    "print(l)"
   ]
  },
  {
   "cell_type": "code",
   "execution_count": 48,
   "metadata": {},
   "outputs": [
    {
     "name": "stdout",
     "output_type": "stream",
     "text": [
      "[[], [], [], [], []]\n"
     ]
    }
   ],
   "source": [
    "l = [ [],[],[],[],[] ]\n",
    "k = [[]]*5\n",
    "print(k)"
   ]
  },
  {
   "cell_type": "markdown",
   "metadata": {},
   "source": [
    "<h1 style='color:#123456'>Comparison Operator"
   ]
  },
  {
   "cell_type": "code",
   "execution_count": 52,
   "metadata": {},
   "outputs": [
    {
     "name": "stdout",
     "output_type": "stream",
     "text": [
      "True\n",
      "False\n",
      "\n",
      "False\n",
      "False\n",
      "True\n"
     ]
    }
   ],
   "source": [
    "#numbers\n",
    "print(4<5)\n",
    "print(5<4)\n",
    "print()\n",
    "print(4<4)\n",
    "print(5>5)\n",
    "print(5==5)\n"
   ]
  },
  {
   "cell_type": "code",
   "execution_count": 54,
   "metadata": {},
   "outputs": [
    {
     "name": "stdout",
     "output_type": "stream",
     "text": [
      "True\n",
      "True\n"
     ]
    }
   ],
   "source": [
    "print(4>=4)\n",
    "print(4!=5)"
   ]
  },
  {
   "cell_type": "markdown",
   "metadata": {},
   "source": [
    "# Logical Operator"
   ]
  },
  {
   "cell_type": "code",
   "execution_count": 59,
   "metadata": {},
   "outputs": [
    {
     "name": "stdout",
     "output_type": "stream",
     "text": [
      "57\n",
      "0\n",
      "None\n",
      "None\n"
     ]
    }
   ],
   "source": [
    "# and , or , not ( unary operator )\n",
    "#op1 and op2\n",
    "# False -> None, 0, False\n",
    "print(45 and 57)\n",
    "print(0 and 57)\n",
    "print(None and 'hello')\n",
    "print(None and 0)"
   ]
  },
  {
   "cell_type": "code",
   "execution_count": 62,
   "metadata": {},
   "outputs": [
    {
     "name": "stdout",
     "output_type": "stream",
     "text": [
      "False\n",
      "-1\n"
     ]
    }
   ],
   "source": [
    "print( (3-4-1) and 4>5)\n",
    "print( (2**3-7+3 and 8-9))"
   ]
  },
  {
   "cell_type": "code",
   "execution_count": 71,
   "metadata": {},
   "outputs": [
    {
     "name": "stdout",
     "output_type": "stream",
     "text": [
      "\top1\top2\tand\tor\n",
      "\n",
      "\tTrue\tFalse\tFalse\tTrue\n",
      "\tTrue\tTrue\tTrue\tTrue\n",
      "\tFalse\tTrue\tFalse\tTrue\n",
      "\tFalse\tFalse\tFalse\tFalse\n"
     ]
    }
   ],
   "source": [
    "#Truth table for and operatiorn\n",
    "print(\"\\top1\\top2\\tand\\tor\")\n",
    "print()\n",
    "x = True\n",
    "y = False\n",
    "print(\"\\t{}\\t{}\\t{}\\t{}\".format(x,y,x and y, x or y))\n",
    "print(\"\\t{}\\t{}\\t{}\\t{}\".format(x,x,x and x, x or x))\n",
    "print(\"\\t{}\\t{}\\t{}\\t{}\".format(y,x,y and x, y or x))\n",
    "print(\"\\t{}\\t{}\\t{}\\t{}\".format(y,y,y and y, y or y))"
   ]
  },
  {
   "cell_type": "code",
   "execution_count": 72,
   "metadata": {},
   "outputs": [
    {
     "name": "stdout",
     "output_type": "stream",
     "text": [
      "True\n"
     ]
    }
   ],
   "source": [
    "#Assignment o/p\n",
    "#Assign value of right side operand left side operand \n",
    "x = 10\n",
    "y = 1\n",
    "z = 3\n",
    "r = ( x+5**y/z*3-x*z ) and ( 5<6 or 7>=6 )\n",
    "print(r)"
   ]
  },
  {
   "cell_type": "code",
   "execution_count": null,
   "metadata": {
    "collapsed": true
   },
   "outputs": [],
   "source": []
  }
 ],
 "metadata": {
  "kernelspec": {
   "display_name": "Python 3",
   "language": "python",
   "name": "python3"
  },
  "language_info": {
   "codemirror_mode": {
    "name": "ipython",
    "version": 3
   },
   "file_extension": ".py",
   "mimetype": "text/x-python",
   "name": "python",
   "nbconvert_exporter": "python",
   "pygments_lexer": "ipython3",
   "version": "3.6.3"
  }
 },
 "nbformat": 4,
 "nbformat_minor": 2
}
