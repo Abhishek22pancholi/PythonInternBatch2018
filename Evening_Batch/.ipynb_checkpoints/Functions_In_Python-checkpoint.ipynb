{
 "cells": [
  {
   "cell_type": "markdown",
   "metadata": {},
   "source": [
    "# What is a Function ? "
   ]
  },
  {
   "cell_type": "markdown",
   "metadata": {},
   "source": [
    "collection of statements to slove a specific task. is that correct ? "
   ]
  },
  {
   "cell_type": "markdown",
   "metadata": {},
   "source": [
    "# Why Functions are used not Statements ? "
   ]
  },
  {
   "cell_type": "markdown",
   "metadata": {},
   "source": [
    "Beause who just want to write same code again and again ? right\n",
    "so reuseability is the factor we use functions "
   ]
  },
  {
   "cell_type": "markdown",
   "metadata": {},
   "source": [
    "# How does a function really works ? "
   ]
  },
  {
   "cell_type": "markdown",
   "metadata": {},
   "source": [
    "1. Defination -> know what to do and how to do ?\n",
    "2. Calling -> Repeat Defination Whenever needed  ? \n",
    "3. Return -> Always get somthing whenever we call a function ? "
   ]
  },
  {
   "cell_type": "code",
   "execution_count": 1,
   "metadata": {
    "collapsed": true
   },
   "outputs": [],
   "source": [
    "def hello():\n",
    "    print(\"Hello World\")\n",
    "    "
   ]
  },
  {
   "cell_type": "code",
   "execution_count": 2,
   "metadata": {},
   "outputs": [
    {
     "name": "stdout",
     "output_type": "stream",
     "text": [
      "Hello World\n",
      "None\n",
      "None\n"
     ]
    }
   ],
   "source": [
    "r = hello()\n",
    "print(print(r))"
   ]
  },
  {
   "cell_type": "code",
   "execution_count": 3,
   "metadata": {
    "collapsed": true
   },
   "outputs": [],
   "source": [
    "#function can return also\n",
    "def hello():\n",
    "    return \"Hello World\""
   ]
  },
  {
   "cell_type": "code",
   "execution_count": 6,
   "metadata": {},
   "outputs": [
    {
     "name": "stdout",
     "output_type": "stream",
     "text": [
      "Hello World\n"
     ]
    }
   ],
   "source": [
    "#msg = hello()\n",
    "print(hello())"
   ]
  },
  {
   "cell_type": "code",
   "execution_count": 11,
   "metadata": {
    "collapsed": true
   },
   "outputs": [],
   "source": [
    "#function can also take information to process\n",
    "def hello(name): # formal arguments or formal parameters\n",
    "    print(\"Hello World !\")\n",
    "    print(\"Welcome user, \",name)\n",
    "    return False #exit status\n",
    "    "
   ]
  },
  {
   "cell_type": "code",
   "execution_count": 12,
   "metadata": {},
   "outputs": [
    {
     "name": "stdout",
     "output_type": "stream",
     "text": [
      "Enter your name : sachin yadav\n",
      "Hello World !\n",
      "Welcome user,  sachin yadav\n",
      "There is an error in function \n"
     ]
    }
   ],
   "source": [
    "if hello(input(\"Enter your name : \")) : \n",
    "         print(\"Function Sucessfully Exited\")\n",
    "else :\n",
    "         print(\"There is an error in function \")"
   ]
  },
  {
   "cell_type": "code",
   "execution_count": 13,
   "metadata": {
    "collapsed": true
   },
   "outputs": [],
   "source": [
    "def prime(num):\n",
    "    from math import sqrt\n",
    "    check = round(sqrt(num)+1)\n",
    "    for ch in range(2,check):\n",
    "        if num % ch == 0 :\n",
    "            return False\n",
    "    return True"
   ]
  },
  {
   "cell_type": "code",
   "execution_count": 16,
   "metadata": {
    "collapsed": true
   },
   "outputs": [],
   "source": [
    "def main():\n",
    "    num = int(input(\"Enter a Number : \"))\n",
    "    if prime(num) :\n",
    "        print(\"Given no. {} is a Prime Number \".format(num))\n",
    "    else : \n",
    "        print(\"Given no. {} is not a Prime Number \".format(num))"
   ]
  },
  {
   "cell_type": "code",
   "execution_count": 17,
   "metadata": {},
   "outputs": [
    {
     "name": "stdout",
     "output_type": "stream",
     "text": [
      "Enter a Number : 127\n",
      "Given no. 127 is a Prime Number \n"
     ]
    }
   ],
   "source": [
    "main()"
   ]
  },
  {
   "cell_type": "code",
   "execution_count": 18,
   "metadata": {},
   "outputs": [
    {
     "data": {
      "text/plain": [
       "False"
      ]
     },
     "execution_count": 18,
     "metadata": {},
     "output_type": "execute_result"
    }
   ],
   "source": [
    "prime(1937811)"
   ]
  },
  {
   "cell_type": "code",
   "execution_count": 26,
   "metadata": {
    "collapsed": true
   },
   "outputs": [],
   "source": [
    "def prime_range(start,end):\n",
    "    c = 0\n",
    "    for var in range(start,end+1):\n",
    "        if prime(var):\n",
    "            print(var,end=', ')\n",
    "            c = c + 1\n",
    "    print(\"Total {} Prime Numbers in range({},{})\".format(c,start,end))\n",
    "    print()"
   ]
  },
  {
   "cell_type": "code",
   "execution_count": 29,
   "metadata": {},
   "outputs": [
    {
     "name": "stdout",
     "output_type": "stream",
     "text": [
      "Enter start,end point : 1100,1200\n",
      "1103, 1109, 1117, 1123, 1129, 1151, 1153, 1163, 1171, 1181, 1187, 1193, Total 12 Prime Numbers in range(1100,1200)\n",
      "\n"
     ]
    }
   ],
   "source": [
    "s,e = map(int,input(\"Enter start,end point : \").strip().split(','))\n",
    "prime_range(s,e)"
   ]
  },
  {
   "cell_type": "code",
   "execution_count": 30,
   "metadata": {},
   "outputs": [
    {
     "name": "stdout",
     "output_type": "stream",
     "text": [
      "Type somethingsachin,ram,shyam,hari,mohan,\n",
      "<class 'list'>\n",
      "['sachin', 'ram', 'shyam', 'hari', 'mohan', '']\n"
     ]
    }
   ],
   "source": [
    "s = input(\"Type something\")\n",
    "k = s.split(',')\n",
    "print(type(k))\n",
    "print(k)"
   ]
  },
  {
   "cell_type": "code",
   "execution_count": 31,
   "metadata": {
    "collapsed": true
   },
   "outputs": [],
   "source": [
    "def mymap(func,seq):\n",
    "    r = []\n",
    "    for var in seq : \n",
    "        k = func(var)\n",
    "        r.append(k)\n",
    "    return r\n",
    "        "
   ]
  },
  {
   "cell_type": "code",
   "execution_count": 32,
   "metadata": {},
   "outputs": [
    {
     "name": "stdout",
     "output_type": "stream",
     "text": [
      "Float values as , seprated : 123,4567.44,3446,2143.45,234464.465,23446.67\n",
      "Before X =  ['123', '4567.44', '3446', '2143.45', '234464.465', '23446.67']\n",
      "After X =  [123.0, 4567.44, 3446.0, 2143.45, 234464.465, 23446.67]\n"
     ]
    }
   ],
   "source": [
    "x = input(\"Float values as , seprated : \").split(',')\n",
    "print(\"Before X = \",x)\n",
    "x = mymap(float,x)\n",
    "print(\"After X = \",x)"
   ]
  },
  {
   "cell_type": "code",
   "execution_count": 33,
   "metadata": {},
   "outputs": [
    {
     "name": "stdout",
     "output_type": "stream",
     "text": [
      "Float values as , seprated : 1,2,3,4,56,7\n",
      "Before X =  ['1', '2', '3', '4', '56', '7']\n",
      "After X =  [1, 2, 3, 4, 56, 7]\n"
     ]
    }
   ],
   "source": [
    "x = input(\"Float values as , seprated : \").split(',')\n",
    "print(\"Before X = \",x)\n",
    "x = mymap(int,x)\n",
    "print(\"After X = \",x)"
   ]
  },
  {
   "cell_type": "code",
   "execution_count": 41,
   "metadata": {},
   "outputs": [],
   "source": [
    "def area(r,b=0,c=0):\n",
    "    if r and b and c :\n",
    "        from math import sqrt\n",
    "        s = ( r + b + c ) / 2\n",
    "        A = sqrt(s*(s-r)*(s-b)*(s-c))\n",
    "        return A\n",
    "    elif r and b :\n",
    "        return r*b\n",
    "    else : \n",
    "        from math import pi \n",
    "        return r*r*pi"
   ]
  },
  {
   "cell_type": "code",
   "execution_count": 42,
   "metadata": {},
   "outputs": [
    {
     "name": "stdout",
     "output_type": "stream",
     "text": [
      "28.274333882308138\n"
     ]
    }
   ],
   "source": [
    "print(area(3))"
   ]
  },
  {
   "cell_type": "code",
   "execution_count": 43,
   "metadata": {},
   "outputs": [
    {
     "name": "stdout",
     "output_type": "stream",
     "text": [
      "15\n"
     ]
    }
   ],
   "source": [
    "print(area(3,5))"
   ]
  },
  {
   "cell_type": "code",
   "execution_count": 44,
   "metadata": {},
   "outputs": [
    {
     "name": "stdout",
     "output_type": "stream",
     "text": [
      "1558.8457268119896\n"
     ]
    }
   ],
   "source": [
    "print(area(60,60,60))"
   ]
  },
  {
   "cell_type": "code",
   "execution_count": 46,
   "metadata": {},
   "outputs": [
    {
     "data": {
      "text/plain": [
       "False"
      ]
     },
     "execution_count": 46,
     "metadata": {},
     "output_type": "execute_result"
    }
   ],
   "source": [
    "prime(num=103424)"
   ]
  },
  {
   "cell_type": "code",
   "execution_count": 47,
   "metadata": {
    "collapsed": true
   },
   "outputs": [],
   "source": [
    "def fun(a,b=0,c=0):\n",
    "    print(\"A = \",a)\n",
    "    print(\"B = \",b)\n",
    "    print(\"C = \",c)"
   ]
  },
  {
   "cell_type": "code",
   "execution_count": 51,
   "metadata": {},
   "outputs": [
    {
     "name": "stdout",
     "output_type": "stream",
     "text": [
      "A =  22\n",
      "B =  -20\n",
      "C =  30\n"
     ]
    }
   ],
   "source": [
    "fun(c=30,b=-20,a=22) #keywords arguments"
   ]
  },
  {
   "cell_type": "code",
   "execution_count": 52,
   "metadata": {},
   "outputs": [
    {
     "name": "stdout",
     "output_type": "stream",
     "text": [
      "A =  14\n",
      "B =  4\n",
      "C =  0\n"
     ]
    }
   ],
   "source": [
    "fun(14,b=4)"
   ]
  },
  {
   "cell_type": "code",
   "execution_count": 59,
   "metadata": {},
   "outputs": [
    {
     "name": "stdout",
     "output_type": "stream",
     "text": [
      "A =  1\n",
      "B =  3\n",
      "C =  5\n"
     ]
    }
   ],
   "source": [
    "fun(1,b=3,c=5)"
   ]
  },
  {
   "cell_type": "code",
   "execution_count": 60,
   "metadata": {},
   "outputs": [],
   "source": [
    "def eve(*args):\n",
    "    for var in args :\n",
    "        if var % 2 == 0 : \n",
    "            print(var, end=', ')\n",
    "    "
   ]
  },
  {
   "cell_type": "code",
   "execution_count": 64,
   "metadata": {},
   "outputs": [
    {
     "name": "stdout",
     "output_type": "stream",
     "text": [
      "2, 4, 24, 6, 24, 4, 52, 466, "
     ]
    }
   ],
   "source": [
    "eve(2,3,35,643,4,24,6,3,24,25,3,4,25,52,43,466,5)"
   ]
  },
  {
   "cell_type": "code",
   "execution_count": 73,
   "metadata": {},
   "outputs": [],
   "source": [
    "def main():\n",
    "    eve(*map(int,input(\"Enter , seprated values : \").split(',')))\n",
    "    if input(\"Press a key to continue : \") :\n",
    "        main()"
   ]
  },
  {
   "cell_type": "code",
   "execution_count": 78,
   "metadata": {},
   "outputs": [
    {
     "name": "stdout",
     "output_type": "stream",
     "text": [
      "Enter , seprated values : 1,2\n",
      "2, Press a key to continue : aksf\n",
      "Enter , seprated values : 1,2,3,4,5\n",
      "2, 4, Press a key to continue : \n"
     ]
    }
   ],
   "source": [
    "main()"
   ]
  },
  {
   "cell_type": "code",
   "execution_count": 79,
   "metadata": {
    "collapsed": true
   },
   "outputs": [],
   "source": [
    "def mydata(**kwargs):\n",
    "    for key,value in kwargs.items() :\n",
    "        print(\"{}={}\".format(key,value))"
   ]
  },
  {
   "cell_type": "code",
   "execution_count": 80,
   "metadata": {},
   "outputs": [
    {
     "name": "stdout",
     "output_type": "stream",
     "text": [
      "name=python\n",
      "version=3.6\n",
      "scope=world wide\n"
     ]
    }
   ],
   "source": [
    "mydata(name='python',version=3.6,scope='world wide')"
   ]
  },
  {
   "cell_type": "code",
   "execution_count": 86,
   "metadata": {
    "collapsed": true
   },
   "outputs": [],
   "source": [
    "d  = { \n",
    "     '1':'one',\n",
    "     '2':'two',\n",
    "     '3':'three',\n",
    "     '4':'four',\n",
    "    }"
   ]
  },
  {
   "cell_type": "code",
   "execution_count": 87,
   "metadata": {},
   "outputs": [
    {
     "name": "stdout",
     "output_type": "stream",
     "text": [
      "1=one\n",
      "2=two\n",
      "3=three\n",
      "4=four\n"
     ]
    }
   ],
   "source": [
    "mydata(**d)"
   ]
  },
  {
   "cell_type": "code",
   "execution_count": 89,
   "metadata": {},
   "outputs": [
    {
     "ename": "SyntaxError",
     "evalue": "invalid syntax (<ipython-input-89-5b50c794ce99>, line 1)",
     "output_type": "error",
     "traceback": [
      "\u001b[1;36m  File \u001b[1;32m\"<ipython-input-89-5b50c794ce99>\"\u001b[1;36m, line \u001b[1;32m1\u001b[0m\n\u001b[1;33m    **d\u001b[0m\n\u001b[1;37m     ^\u001b[0m\n\u001b[1;31mSyntaxError\u001b[0m\u001b[1;31m:\u001b[0m invalid syntax\n"
     ]
    }
   ],
   "source": []
  },
  {
   "cell_type": "code",
   "execution_count": null,
   "metadata": {
    "collapsed": true
   },
   "outputs": [],
   "source": []
  }
 ],
 "metadata": {
  "kernelspec": {
   "display_name": "Python 3",
   "language": "python",
   "name": "python3"
  },
  "language_info": {
   "codemirror_mode": {
    "name": "ipython",
    "version": 3
   },
   "file_extension": ".py",
   "mimetype": "text/x-python",
   "name": "python",
   "nbconvert_exporter": "python",
   "pygments_lexer": "ipython3",
   "version": "3.6.3"
  }
 },
 "nbformat": 4,
 "nbformat_minor": 2
}
